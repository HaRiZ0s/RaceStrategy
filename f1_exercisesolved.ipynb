{
 "cells": [
  {
   "cell_type": "code",
   "execution_count": 6,
   "id": "41c60b56",
   "metadata": {},
   "outputs": [],
   "source": [
    "\n"
   ]
  },
  {
   "cell_type": "code",
   "execution_count": 20,
   "id": "8ee45af1",
   "metadata": {},
   "outputs": [],
   "source": [
    "blue_times = [(1, 0.5), (2, 1.04), (3, 1.62), (4, 2.24), (5, 2.90), (6, 3.60), (7, 4.34), (8, 5.12), (9, 5.94), \n",
    "              (10, 6.80), (11, 7.70), (12, 8.64), (13, 9.62), (14, 10.64), (15, 11.70), (16, 12.80), (17, 13.94), (18, 15.12),\n",
    "              (19, 16.34), (20, 17.60), (21, 18.90), (22, 20.24), (23, 21.62), (24, 23.04), (25, 24.50), (26, 26.00), (27, 27.54), \n",
    "               (28, 29.12), (29, 30.74), (30, 32.40), (31, 34.10), (32, 35.84)]"
   ]
  },
  {
   "cell_type": "code",
   "execution_count": 21,
   "id": "b24442cc",
   "metadata": {},
   "outputs": [],
   "source": [
    "red_times = [(1, 0.01), (2, 0.12), (3, 0.36), (4, 0.72), (5, 1.20), (6, 1.80), (7, 2.52), (8, 3.36), (9, 4.32), \n",
    "              (10, 5.40), (11, 6.60), (12, 7.92), (13, 9.36), (14, 10.92), (15, 12.60), (16, 14.40), (17, 16.32), (18, 18.36)]"
   ]
  },
  {
   "cell_type": "code",
   "execution_count": null,
   "id": "1f4c293b",
   "metadata": {},
   "outputs": [],
   "source": []
  },
  {
   "cell_type": "code",
   "execution_count": 23,
   "id": "785f0b17",
   "metadata": {},
   "outputs": [
    {
     "name": "stdout",
     "output_type": "stream",
     "text": [
      "Minimum time: 54.0\n",
      "Minimum combination: (24, 24, 12)\n"
     ]
    }
   ],
   "source": [
    "\n",
    "        min_time = float('inf')\n",
    "        min_combo = (0, 0, 0)\n",
    "        for blue in range(1, 33):        \n",
    "            for red in range(1, 19):\n",
    "                \n",
    "                # case 1: blue1 blue2 red\n",
    "                total_time = blue_times[blue-1][1] + blue_times[blue-1][1] + red_times[red-1][1]\n",
    "                total_lap = blue_times[blue-1][0] + blue_times[blue-1][0] + red_times[red-1][0]\n",
    "                if total_lap == 60 and total_time < min_time:\n",
    "                    \n",
    "                    min_time = total_time\n",
    "                    min_combo = (blue, blue, red)\n",
    "                # case 2: blue red red\n",
    "                total_time = blue_times[blue-1][1] + red_times[red-1][1] + red_times[red-1][1]\n",
    "                total_lap = blue_times[blue-1][0] + red_times[red-1][0] + red_times[red-1][0]\n",
    "                if total_lap == 60 and total_time < min_time:\n",
    "                    min_time = total_time\n",
    "                    min_combo = (blue, red, red)\n",
    "                    \n",
    "        print(f\"Minimum time: {min_time}\")\n",
    "        print(f\"Minimum combination: {min_combo}\")           "
   ]
  },
  {
   "cell_type": "code",
   "execution_count": null,
   "id": "5c4aaf06",
   "metadata": {},
   "outputs": [],
   "source": [
    "    \n"
   ]
  }
 ],
 "metadata": {
  "kernelspec": {
   "display_name": "Python 3 (ipykernel)",
   "language": "python",
   "name": "python3"
  },
  "language_info": {
   "codemirror_mode": {
    "name": "ipython",
    "version": 3
   },
   "file_extension": ".py",
   "mimetype": "text/x-python",
   "name": "python",
   "nbconvert_exporter": "python",
   "pygments_lexer": "ipython3",
   "version": "3.9.13"
  }
 },
 "nbformat": 4,
 "nbformat_minor": 5
}
